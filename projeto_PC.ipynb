{
 "cells": [
  {
   "cell_type": "markdown",
   "metadata": {},
   "source": [
    "#### Definiçao do problema:"
   ]
  },
  {
   "cell_type": "code",
   "execution_count": 1,
   "metadata": {},
   "outputs": [
    {
     "data": {
      "text/plain": [
       "'\\n1 Análise de mercado: identificar tendências em preços de laptops com base em diferentes marcas e configurações.\\n2 Estudo de importância de recursos: analisar quais recursos têm o maior impacto no preço de laptops.\\n3 Previsão de preço: criar modelos de aprendizado de máquina para prever preços de laptops com base nas especificações.\\n'"
      ]
     },
     "execution_count": 1,
     "metadata": {},
     "output_type": "execute_result"
    }
   ],
   "source": [
    "'''\n",
    "1 Análise de mercado: identificar tendências em preços de laptops com base em diferentes marcas e configurações.\n",
    "2 Estudo de importância de recursos: analisar quais recursos têm o maior impacto no preço de laptops.\n",
    "3 Previsão de preço: criar modelos de aprendizado de máquina para prever preços de laptops com base nas especificações.\n",
    "'''"
   ]
  },
  {
   "cell_type": "markdown",
   "metadata": {},
   "source": [
    "#### Instalando dependências:"
   ]
  },
  {
   "cell_type": "code",
   "execution_count": 19,
   "metadata": {},
   "outputs": [],
   "source": [
    "\n",
    "# Exploraçao de dados e manipulação\n",
    "import pandas as pd\n",
    "import numpy as np\n",
    "# Visualização de dados\n",
    "import matplotlib.pyplot as plt\n",
    "import seaborn as sns\n",
    "# Machine Learning e Estatística\n",
    "import sklearn as sk\n",
    "from sklearn.model_selection import train_test_split\n",
    "from sklearn.metrics import mean_absolute_error, mean_squared_error, r2_score\n",
    "from sklearn.linear_model import LinearRegression\n",
    "from sklearn.tree import DecisionTreeClassifier\n",
    "from sklearn.cluster import KMeans\n",
    "from sklearn.preprocessing import LabelEncoder, StandardScaler, KBinsDiscretizer"
   ]
  },
  {
   "cell_type": "markdown",
   "metadata": {},
   "source": [
    "#### Coleta de dados:"
   ]
  },
  {
   "cell_type": "code",
   "execution_count": 4,
   "metadata": {},
   "outputs": [
    {
     "data": {
      "text/html": [
       "<div>\n",
       "<style scoped>\n",
       "    .dataframe tbody tr th:only-of-type {\n",
       "        vertical-align: middle;\n",
       "    }\n",
       "\n",
       "    .dataframe tbody tr th {\n",
       "        vertical-align: top;\n",
       "    }\n",
       "\n",
       "    .dataframe thead th {\n",
       "        text-align: right;\n",
       "    }\n",
       "</style>\n",
       "<table border=\"1\" class=\"dataframe\">\n",
       "  <thead>\n",
       "    <tr style=\"text-align: right;\">\n",
       "      <th></th>\n",
       "      <th>Brand</th>\n",
       "      <th>Processor</th>\n",
       "      <th>RAM (GB)</th>\n",
       "      <th>Storage</th>\n",
       "      <th>GPU</th>\n",
       "      <th>Screen Size (inch)</th>\n",
       "      <th>Resolution</th>\n",
       "      <th>Battery Life (hours)</th>\n",
       "      <th>Weight (kg)</th>\n",
       "      <th>Operating System</th>\n",
       "      <th>Price ($)</th>\n",
       "    </tr>\n",
       "  </thead>\n",
       "  <tbody>\n",
       "    <tr>\n",
       "      <th>0</th>\n",
       "      <td>Apple</td>\n",
       "      <td>AMD Ryzen 3</td>\n",
       "      <td>64</td>\n",
       "      <td>512GB SSD</td>\n",
       "      <td>Nvidia GTX 1650</td>\n",
       "      <td>17.3</td>\n",
       "      <td>2560x1440</td>\n",
       "      <td>8.9</td>\n",
       "      <td>1.42</td>\n",
       "      <td>FreeDOS</td>\n",
       "      <td>3997.07</td>\n",
       "    </tr>\n",
       "    <tr>\n",
       "      <th>1</th>\n",
       "      <td>Razer</td>\n",
       "      <td>AMD Ryzen 7</td>\n",
       "      <td>4</td>\n",
       "      <td>1TB SSD</td>\n",
       "      <td>Nvidia RTX 3080</td>\n",
       "      <td>14.0</td>\n",
       "      <td>1366x768</td>\n",
       "      <td>9.4</td>\n",
       "      <td>2.57</td>\n",
       "      <td>Linux</td>\n",
       "      <td>1355.78</td>\n",
       "    </tr>\n",
       "    <tr>\n",
       "      <th>2</th>\n",
       "      <td>Asus</td>\n",
       "      <td>Intel i5</td>\n",
       "      <td>32</td>\n",
       "      <td>2TB SSD</td>\n",
       "      <td>Nvidia RTX 3060</td>\n",
       "      <td>13.3</td>\n",
       "      <td>3840x2160</td>\n",
       "      <td>8.5</td>\n",
       "      <td>1.74</td>\n",
       "      <td>FreeDOS</td>\n",
       "      <td>2673.07</td>\n",
       "    </tr>\n",
       "    <tr>\n",
       "      <th>3</th>\n",
       "      <td>Lenovo</td>\n",
       "      <td>Intel i5</td>\n",
       "      <td>4</td>\n",
       "      <td>256GB SSD</td>\n",
       "      <td>Nvidia RTX 3080</td>\n",
       "      <td>13.3</td>\n",
       "      <td>1366x768</td>\n",
       "      <td>10.5</td>\n",
       "      <td>3.10</td>\n",
       "      <td>Windows</td>\n",
       "      <td>751.17</td>\n",
       "    </tr>\n",
       "    <tr>\n",
       "      <th>4</th>\n",
       "      <td>Razer</td>\n",
       "      <td>Intel i3</td>\n",
       "      <td>4</td>\n",
       "      <td>256GB SSD</td>\n",
       "      <td>AMD Radeon RX 6600</td>\n",
       "      <td>16.0</td>\n",
       "      <td>3840x2160</td>\n",
       "      <td>5.7</td>\n",
       "      <td>3.38</td>\n",
       "      <td>Linux</td>\n",
       "      <td>2059.83</td>\n",
       "    </tr>\n",
       "  </tbody>\n",
       "</table>\n",
       "</div>"
      ],
      "text/plain": [
       "    Brand    Processor  RAM (GB)    Storage                 GPU  \\\n",
       "0   Apple  AMD Ryzen 3        64  512GB SSD     Nvidia GTX 1650   \n",
       "1   Razer  AMD Ryzen 7         4    1TB SSD     Nvidia RTX 3080   \n",
       "2    Asus     Intel i5        32    2TB SSD     Nvidia RTX 3060   \n",
       "3  Lenovo     Intel i5         4  256GB SSD     Nvidia RTX 3080   \n",
       "4   Razer     Intel i3         4  256GB SSD  AMD Radeon RX 6600   \n",
       "\n",
       "   Screen Size (inch) Resolution  Battery Life (hours)  Weight (kg)  \\\n",
       "0                17.3  2560x1440                   8.9         1.42   \n",
       "1                14.0   1366x768                   9.4         2.57   \n",
       "2                13.3  3840x2160                   8.5         1.74   \n",
       "3                13.3   1366x768                  10.5         3.10   \n",
       "4                16.0  3840x2160                   5.7         3.38   \n",
       "\n",
       "  Operating System  Price ($)  \n",
       "0          FreeDOS    3997.07  \n",
       "1            Linux    1355.78  \n",
       "2          FreeDOS    2673.07  \n",
       "3          Windows     751.17  \n",
       "4            Linux    2059.83  "
      ]
     },
     "execution_count": 4,
     "metadata": {},
     "output_type": "execute_result"
    }
   ],
   "source": [
    "# Carregando dados:\n",
    "\n",
    "tabela = pd.read_csv(filepath_or_buffer='precos_pc.csv')\n",
    "\n",
    "# Criando objeto dataframe para analise\n",
    "\n",
    "df = pd.DataFrame(data=tabela)\n",
    "df.head()"
   ]
  },
  {
   "cell_type": "markdown",
   "metadata": {},
   "source": [
    "#### Limpeza e pré-processamento dos dados:"
   ]
  },
  {
   "cell_type": "code",
   "execution_count": 5,
   "metadata": {},
   "outputs": [
    {
     "data": {
      "text/plain": [
       "Index(['Brand', 'Processor', 'RAM (GB)', 'Storage', 'GPU',\n",
       "       'Screen Size (inch)', 'Resolution', 'Battery Life (hours)',\n",
       "       'Weight (kg)', 'Operating System', 'Price ($)'],\n",
       "      dtype='object')"
      ]
     },
     "execution_count": 5,
     "metadata": {},
     "output_type": "execute_result"
    }
   ],
   "source": [
    "# Visualizaçao tabular e noçoes basicas dos dados:\n",
    "df.head(n=50)\n",
    "df.isnull().sum()\n",
    "df.duplicated(subset=df[:])\n",
    "df.columns"
   ]
  },
  {
   "cell_type": "markdown",
   "metadata": {},
   "source": [
    "#### Visão geral dos dados"
   ]
  },
  {
   "cell_type": "code",
   "execution_count": 1,
   "metadata": {},
   "outputs": [
    {
     "ename": "NameError",
     "evalue": "name 'df' is not defined",
     "output_type": "error",
     "traceback": [
      "\u001b[1;31m---------------------------------------------------------------------------\u001b[0m",
      "\u001b[1;31mNameError\u001b[0m                                 Traceback (most recent call last)",
      "Cell \u001b[1;32mIn[1], line 1\u001b[0m\n\u001b[1;32m----> 1\u001b[0m \u001b[43mdf\u001b[49m\u001b[38;5;241m.\u001b[39mhead()\n",
      "\u001b[1;31mNameError\u001b[0m: name 'df' is not defined"
     ]
    }
   ],
   "source": [
    "df.head()"
   ]
  },
  {
   "cell_type": "code",
   "execution_count": null,
   "metadata": {},
   "outputs": [
    {
     "data": {
      "text/plain": [
       "(11768, 11)"
      ]
     },
     "execution_count": 71,
     "metadata": {},
     "output_type": "execute_result"
    }
   ],
   "source": [
    "df.shape"
   ]
  },
  {
   "cell_type": "code",
   "execution_count": null,
   "metadata": {},
   "outputs": [
    {
     "data": {
      "text/html": [
       "<div>\n",
       "<style scoped>\n",
       "    .dataframe tbody tr th:only-of-type {\n",
       "        vertical-align: middle;\n",
       "    }\n",
       "\n",
       "    .dataframe tbody tr th {\n",
       "        vertical-align: top;\n",
       "    }\n",
       "\n",
       "    .dataframe thead th {\n",
       "        text-align: right;\n",
       "    }\n",
       "</style>\n",
       "<table border=\"1\" class=\"dataframe\">\n",
       "  <thead>\n",
       "    <tr style=\"text-align: right;\">\n",
       "      <th></th>\n",
       "      <th>RAM (GB)</th>\n",
       "      <th>Screen Size (inch)</th>\n",
       "      <th>Battery Life (hours)</th>\n",
       "      <th>Weight (kg)</th>\n",
       "      <th>Price ($)</th>\n",
       "    </tr>\n",
       "  </thead>\n",
       "  <tbody>\n",
       "    <tr>\n",
       "      <th>count</th>\n",
       "      <td>11768.000000</td>\n",
       "      <td>11768.000000</td>\n",
       "      <td>11768.000000</td>\n",
       "      <td>11768.000000</td>\n",
       "      <td>11768.000000</td>\n",
       "    </tr>\n",
       "    <tr>\n",
       "      <th>mean</th>\n",
       "      <td>24.852821</td>\n",
       "      <td>15.212305</td>\n",
       "      <td>8.027855</td>\n",
       "      <td>2.341117</td>\n",
       "      <td>2183.571608</td>\n",
       "    </tr>\n",
       "    <tr>\n",
       "      <th>std</th>\n",
       "      <td>21.762567</td>\n",
       "      <td>1.436997</td>\n",
       "      <td>2.305400</td>\n",
       "      <td>0.667921</td>\n",
       "      <td>1316.886132</td>\n",
       "    </tr>\n",
       "    <tr>\n",
       "      <th>min</th>\n",
       "      <td>4.000000</td>\n",
       "      <td>13.300000</td>\n",
       "      <td>4.000000</td>\n",
       "      <td>1.200000</td>\n",
       "      <td>279.570000</td>\n",
       "    </tr>\n",
       "    <tr>\n",
       "      <th>25%</th>\n",
       "      <td>8.000000</td>\n",
       "      <td>14.000000</td>\n",
       "      <td>6.000000</td>\n",
       "      <td>1.760000</td>\n",
       "      <td>1272.045000</td>\n",
       "    </tr>\n",
       "    <tr>\n",
       "      <th>50%</th>\n",
       "      <td>16.000000</td>\n",
       "      <td>15.600000</td>\n",
       "      <td>8.000000</td>\n",
       "      <td>2.340000</td>\n",
       "      <td>1840.865000</td>\n",
       "    </tr>\n",
       "    <tr>\n",
       "      <th>75%</th>\n",
       "      <td>32.000000</td>\n",
       "      <td>16.000000</td>\n",
       "      <td>10.000000</td>\n",
       "      <td>2.910000</td>\n",
       "      <td>2698.370000</td>\n",
       "    </tr>\n",
       "    <tr>\n",
       "      <th>max</th>\n",
       "      <td>64.000000</td>\n",
       "      <td>17.300000</td>\n",
       "      <td>12.000000</td>\n",
       "      <td>3.500000</td>\n",
       "      <td>10807.880000</td>\n",
       "    </tr>\n",
       "  </tbody>\n",
       "</table>\n",
       "</div>"
      ],
      "text/plain": [
       "           RAM (GB)  Screen Size (inch)  Battery Life (hours)   Weight (kg)  \\\n",
       "count  11768.000000        11768.000000          11768.000000  11768.000000   \n",
       "mean      24.852821           15.212305              8.027855      2.341117   \n",
       "std       21.762567            1.436997              2.305400      0.667921   \n",
       "min        4.000000           13.300000              4.000000      1.200000   \n",
       "25%        8.000000           14.000000              6.000000      1.760000   \n",
       "50%       16.000000           15.600000              8.000000      2.340000   \n",
       "75%       32.000000           16.000000             10.000000      2.910000   \n",
       "max       64.000000           17.300000             12.000000      3.500000   \n",
       "\n",
       "          Price ($)  \n",
       "count  11768.000000  \n",
       "mean    2183.571608  \n",
       "std     1316.886132  \n",
       "min      279.570000  \n",
       "25%     1272.045000  \n",
       "50%     1840.865000  \n",
       "75%     2698.370000  \n",
       "max    10807.880000  "
      ]
     },
     "execution_count": 72,
     "metadata": {},
     "output_type": "execute_result"
    }
   ],
   "source": [
    "df.describe()"
   ]
  },
  {
   "cell_type": "code",
   "execution_count": null,
   "metadata": {},
   "outputs": [
    {
     "name": "stdout",
     "output_type": "stream",
     "text": [
      "<class 'pandas.core.frame.DataFrame'>\n",
      "RangeIndex: 11768 entries, 0 to 11767\n",
      "Data columns (total 11 columns):\n",
      " #   Column                Non-Null Count  Dtype  \n",
      "---  ------                --------------  -----  \n",
      " 0   Brand                 11768 non-null  object \n",
      " 1   Processor             11768 non-null  object \n",
      " 2   RAM (GB)              11768 non-null  int64  \n",
      " 3   Storage               11768 non-null  object \n",
      " 4   GPU                   11768 non-null  object \n",
      " 5   Screen Size (inch)    11768 non-null  float64\n",
      " 6   Resolution            11768 non-null  object \n",
      " 7   Battery Life (hours)  11768 non-null  float64\n",
      " 8   Weight (kg)           11768 non-null  float64\n",
      " 9   Operating System      11768 non-null  object \n",
      " 10  Price ($)             11768 non-null  float64\n",
      "dtypes: float64(4), int64(1), object(6)\n",
      "memory usage: 1011.4+ KB\n"
     ]
    }
   ],
   "source": [
    "df.info()"
   ]
  },
  {
   "cell_type": "markdown",
   "metadata": {},
   "source": [
    "#### Visualização de dados"
   ]
  },
  {
   "cell_type": "code",
   "execution_count": null,
   "metadata": {},
   "outputs": [],
   "source": [
    "# Graficos de atributos por preço\n",
    "\n",
    "fig = plt.figure(figsize=(20,20))\n",
    "\n",
    "# Preço entre marcas de PC\n",
    "plt.subplot(3,3,1)\n",
    "plt.bar(x=df['Brand'],height=df['Price ($)'])\n",
    "plt.xlabel(xlabel='Marca')\n",
    "plt.ylabel(ylabel='Preço')\n",
    "plt.title(label='Preço entre marcas de PC')\n",
    "plt.tight_layout()\n",
    "\n",
    "# Preços de processadores Intel / AMD \n",
    "plt.subplot(3,3,8)\n",
    "plt.barh(y=df['Processor'],width=df['Price ($)'])\n",
    "plt.xlabel(xlabel='Processadores')\n",
    "plt.ylabel(ylabel='Preços')\n",
    "plt.title(label='Preços de processadores Intel / AMD')\n",
    "\n",
    "\n",
    "# Preço por armazenamento interno\n",
    "plt.subplot(3,3,3)\n",
    "plt.bar(x=df['Storage'], height=df['Price ($)'])\n",
    "plt.xlabel(xlabel='Armazenamento interno')\n",
    "plt.ylabel(ylabel='Preço')\n",
    "plt.title(label='Preço por armazenamento interno')\n",
    "plt.tight_layout()\n",
    "\n",
    "# Preço por GPU\n",
    "plt.subplot(3,3,7)\n",
    "plt.barh(y=df['GPU'],width=df['Price ($)'])\n",
    "plt.xlabel(xlabel='GPU')\n",
    "plt.ylabel(ylabel='Preço')\n",
    "plt.title(label='Preços por GPU')\n",
    "\n",
    "\n",
    "# Preço por resolução de tela\n",
    "plt.subplot(3,3,5)\n",
    "plt.bar(x=df['Resolution'], height=df['Price ($)'])\n",
    "plt.xlabel(xlabel='Resoluçao de tela')\n",
    "plt.ylabel(ylabel='Preço')\n",
    "plt.title(label='Preços por resolução de tela')\n",
    "plt.tight_layout()\n",
    "\n",
    "# Preço por duraçao de bateria\n",
    "plt.subplot(3,3,6)\n",
    "plt.scatter(df['Battery Life (hours)'],df['Price ($)'],edgecolors='black')\n",
    "plt.xlabel(xlabel='Duração de bateria')\n",
    "plt.ylabel(ylabel='Preço')\n",
    "plt.title(label='Preço por duração de bateria')\n",
    "\n",
    "# Preço baseado em peso KG\n",
    "plt.subplot(3,3,4)\n",
    "plt.scatter(x=df['Weight (kg)'], y= df['Price ($)'], edgecolors='black')\n",
    "plt.xlabel(xlabel='Peso por KG')\n",
    "plt.ylabel(ylabel='Preço')\n",
    "plt.title(label='Preço baseado em peso KG')\n",
    "plt.tight_layout()\n",
    "\n",
    "# Preço por sistema operacional\n",
    "plt.subplot(3,3,2)\n",
    "plt.bar(df['Operating System'], df['Price ($)'])\n",
    "plt.xlabel('Sistema operacional')\n",
    "plt.ylabel('Preço')\n",
    "plt.title('Preço por sistema operacional')\n"
   ]
  },
  {
   "cell_type": "code",
   "execution_count": null,
   "metadata": {},
   "outputs": [],
   "source": [
    "# Análise descritiva (Insights):\n",
    "'''\n",
    ". As marcas Apple, Razer e MSI são significativamente mais caras que as demais;\n",
    ". Sistemas operacionais não afetam significativamente o preço finala de computadores;\n",
    ". HD como armazenamento interno é mais barato que SSD;\n",
    ". O peso entre os computadores não influencia o preço final;\n",
    ". O preço de computadores aumenta conforme a resolução de tela aumenta gradualmente;\n",
    ". A duração de bateria dos computadores não influencia o preço final;\n",
    ". APUs se destacam em menor preço entre GPUs;\n",
    ". Processadores AMD e Intel tem preços equivalentes, baseados em suas respectivas gerações;\n",
    "'''"
   ]
  },
  {
   "cell_type": "markdown",
   "metadata": {},
   "source": [
    "#### Machine learning"
   ]
  },
  {
   "cell_type": "markdown",
   "metadata": {},
   "source": [
    "##### Pré-processamento"
   ]
  },
  {
   "cell_type": "code",
   "execution_count": 5,
   "metadata": {},
   "outputs": [],
   "source": [
    "# Variáveis categóricas\n",
    "label_encoder = LabelEncoder()\n",
    "df['Brand_nom'] = label_encoder.fit_transform(df['Brand'])\n",
    "df['Processor_nom'] = label_encoder.fit_transform(df['Processor'])\n",
    "df['RAM (GB)_nom'] = label_encoder.fit_transform(df['RAM (GB)'])\n",
    "df['Storage_nom'] = label_encoder.fit_transform(df['Storage'])\n",
    "df['GPU_nom'] = label_encoder.fit_transform(df['GPU'])\n",
    "df['Resolution_nom'] = label_encoder.fit_transform(df['Resolution'])\n",
    "df['Operating System_nom'] = label_encoder.fit_transform(df['Operating System'])\n"
   ]
  },
  {
   "cell_type": "markdown",
   "metadata": {},
   "source": [
    "##### Varíaveis númericas"
   ]
  },
  {
   "cell_type": "code",
   "execution_count": 6,
   "metadata": {},
   "outputs": [],
   "source": [
    "scaler_encoder = StandardScaler()\n",
    "df['Screen Size (inch)_std'] = scaler_encoder.fit_transform(df[['Screen Size (inch)']])\n",
    "df['Battery Life (hours)_std'] = scaler_encoder.fit_transform(df[['Battery Life (hours)']])\n",
    "df['Weight (kg)_std'] = scaler_encoder.fit_transform(df[['Weight (kg)']])\n",
    "df['Price ($)_std'] = scaler_encoder.fit_transform(df[['Price ($)']])"
   ]
  },
  {
   "cell_type": "markdown",
   "metadata": {},
   "source": [
    "##### Limpeza"
   ]
  },
  {
   "cell_type": "code",
   "execution_count": 7,
   "metadata": {},
   "outputs": [
    {
     "data": {
      "text/html": [
       "<div>\n",
       "<style scoped>\n",
       "    .dataframe tbody tr th:only-of-type {\n",
       "        vertical-align: middle;\n",
       "    }\n",
       "\n",
       "    .dataframe tbody tr th {\n",
       "        vertical-align: top;\n",
       "    }\n",
       "\n",
       "    .dataframe thead th {\n",
       "        text-align: right;\n",
       "    }\n",
       "</style>\n",
       "<table border=\"1\" class=\"dataframe\">\n",
       "  <thead>\n",
       "    <tr style=\"text-align: right;\">\n",
       "      <th></th>\n",
       "      <th>Brand_nom</th>\n",
       "      <th>Processor_nom</th>\n",
       "      <th>RAM (GB)_nom</th>\n",
       "      <th>Storage_nom</th>\n",
       "      <th>GPU_nom</th>\n",
       "      <th>Resolution_nom</th>\n",
       "      <th>Operating System_nom</th>\n",
       "      <th>Screen Size (inch)_std</th>\n",
       "      <th>Battery Life (hours)_std</th>\n",
       "      <th>Weight (kg)_std</th>\n",
       "      <th>Price ($)_std</th>\n",
       "    </tr>\n",
       "  </thead>\n",
       "  <tbody>\n",
       "    <tr>\n",
       "      <th>0</th>\n",
       "      <td>1</td>\n",
       "      <td>0</td>\n",
       "      <td>4</td>\n",
       "      <td>4</td>\n",
       "      <td>3</td>\n",
       "      <td>2</td>\n",
       "      <td>0</td>\n",
       "      <td>1.452880</td>\n",
       "      <td>0.378321</td>\n",
       "      <td>-1.379139</td>\n",
       "      <td>1.377170</td>\n",
       "    </tr>\n",
       "    <tr>\n",
       "      <th>1</th>\n",
       "      <td>8</td>\n",
       "      <td>2</td>\n",
       "      <td>0</td>\n",
       "      <td>1</td>\n",
       "      <td>6</td>\n",
       "      <td>0</td>\n",
       "      <td>1</td>\n",
       "      <td>-0.843674</td>\n",
       "      <td>0.595212</td>\n",
       "      <td>0.342695</td>\n",
       "      <td>-0.628624</td>\n",
       "    </tr>\n",
       "    <tr>\n",
       "      <th>2</th>\n",
       "      <td>2</td>\n",
       "      <td>5</td>\n",
       "      <td>3</td>\n",
       "      <td>3</td>\n",
       "      <td>5</td>\n",
       "      <td>3</td>\n",
       "      <td>0</td>\n",
       "      <td>-1.330821</td>\n",
       "      <td>0.204808</td>\n",
       "      <td>-0.900020</td>\n",
       "      <td>0.371725</td>\n",
       "    </tr>\n",
       "    <tr>\n",
       "      <th>3</th>\n",
       "      <td>5</td>\n",
       "      <td>5</td>\n",
       "      <td>0</td>\n",
       "      <td>2</td>\n",
       "      <td>6</td>\n",
       "      <td>0</td>\n",
       "      <td>2</td>\n",
       "      <td>-1.330821</td>\n",
       "      <td>1.072373</td>\n",
       "      <td>1.136236</td>\n",
       "      <td>-1.087765</td>\n",
       "    </tr>\n",
       "    <tr>\n",
       "      <th>4</th>\n",
       "      <td>8</td>\n",
       "      <td>4</td>\n",
       "      <td>0</td>\n",
       "      <td>2</td>\n",
       "      <td>0</td>\n",
       "      <td>3</td>\n",
       "      <td>1</td>\n",
       "      <td>0.548177</td>\n",
       "      <td>-1.009783</td>\n",
       "      <td>1.555465</td>\n",
       "      <td>-0.093969</td>\n",
       "    </tr>\n",
       "  </tbody>\n",
       "</table>\n",
       "</div>"
      ],
      "text/plain": [
       "   Brand_nom  Processor_nom  RAM (GB)_nom  Storage_nom  GPU_nom  \\\n",
       "0          1              0             4            4        3   \n",
       "1          8              2             0            1        6   \n",
       "2          2              5             3            3        5   \n",
       "3          5              5             0            2        6   \n",
       "4          8              4             0            2        0   \n",
       "\n",
       "   Resolution_nom  Operating System_nom  Screen Size (inch)_std  \\\n",
       "0               2                     0                1.452880   \n",
       "1               0                     1               -0.843674   \n",
       "2               3                     0               -1.330821   \n",
       "3               0                     2               -1.330821   \n",
       "4               3                     1                0.548177   \n",
       "\n",
       "   Battery Life (hours)_std  Weight (kg)_std  Price ($)_std  \n",
       "0                  0.378321        -1.379139       1.377170  \n",
       "1                  0.595212         0.342695      -0.628624  \n",
       "2                  0.204808        -0.900020       0.371725  \n",
       "3                  1.072373         1.136236      -1.087765  \n",
       "4                 -1.009783         1.555465      -0.093969  "
      ]
     },
     "execution_count": 7,
     "metadata": {},
     "output_type": "execute_result"
    }
   ],
   "source": [
    "df.drop(columns=['Price ($)','Brand','RAM (GB)','Processor','Storage','GPU','Screen Size (inch)','Resolution','Battery Life (hours)','Weight (kg)','Operating System'], inplace= True)\n",
    "\n",
    "df.head()"
   ]
  },
  {
   "cell_type": "markdown",
   "metadata": {},
   "source": [
    "##### Treino/Teste"
   ]
  },
  {
   "cell_type": "code",
   "execution_count": 8,
   "metadata": {},
   "outputs": [],
   "source": [
    "X = df.iloc[:,:-1]\n",
    "y = df.iloc[:,-1]\n",
    "\n",
    "X_train, X_test, y_train, y_test = train_test_split(X,y,test_size=0.33, random_state=42)\n"
   ]
  },
  {
   "cell_type": "markdown",
   "metadata": {},
   "source": [
    "#### Modelo de regressão"
   ]
  },
  {
   "cell_type": "code",
   "execution_count": 21,
   "metadata": {},
   "outputs": [
    {
     "name": "stdout",
     "output_type": "stream",
     "text": [
      "       Valor Real  Previsão\n",
      "10445   -0.716138  0.646470\n",
      "6057    -0.542425  0.281253\n",
      "10999   -0.023125  0.115173\n",
      "11310   -0.920887 -0.731783\n",
      "11258   -0.534884 -0.437380\n"
     ]
    }
   ],
   "source": [
    "model = LinearRegression()\n",
    "model.fit(X_train,y_train)\n",
    "y_predict = model.predict(X_test)\n",
    "df_resultado = pd.DataFrame({\"Valor Real\": y_test, \"Previsão\": y_predict})\n",
    "print(df_resultado.head())"
   ]
  },
  {
   "cell_type": "markdown",
   "metadata": {},
   "source": [
    "#### Métricas de avaliação"
   ]
  },
  {
   "cell_type": "code",
   "execution_count": null,
   "metadata": {},
   "outputs": [
    {
     "name": "stdout",
     "output_type": "stream",
     "text": [
      "Erro Médio Absoluto (MAE): 0.49\n",
      "Erro Quadrático Médio (MSE): 0.45\n",
      "Raiz do Erro Quadrático Médio (RMSE): 0.67\n",
      "Coeficiente de Determinação (R²): 0.56\n"
     ]
    }
   ],
   "source": [
    "mae = mean_absolute_error(y_test, y_predict)\n",
    "mse = mean_squared_error(y_test, y_predict)\n",
    "rmse = np.sqrt(mse)\n",
    "r2 = r2_score(y_test, y_predict)\n",
    "\n",
    "\n",
    "print(f\"Erro Médio Absoluto (MAE): {mae:.2f}\")\n",
    "print(f\"Erro Quadrático Médio (MSE): {mse:.2f}\")\n",
    "print(f\"Raiz do Erro Quadrático Médio (RMSE): {rmse:.2f}\")\n",
    "print(f\"Coeficiente de Determinação (R²): {r2:.2f}\")"
   ]
  }
 ],
 "metadata": {
  "kernelspec": {
   "display_name": "Python 3",
   "language": "python",
   "name": "python3"
  },
  "language_info": {
   "codemirror_mode": {
    "name": "ipython",
    "version": 3
   },
   "file_extension": ".py",
   "mimetype": "text/x-python",
   "name": "python",
   "nbconvert_exporter": "python",
   "pygments_lexer": "ipython3",
   "version": "3.11.9"
  }
 },
 "nbformat": 4,
 "nbformat_minor": 2
}
